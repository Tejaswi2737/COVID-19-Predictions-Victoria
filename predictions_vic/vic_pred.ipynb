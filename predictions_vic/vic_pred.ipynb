{
 "cells": [
  {
   "cell_type": "markdown",
   "metadata": {},
   "source": [
    "   <font color=red><h1>COVID-19 Total Cases and Deaths Predictions</h1></font>\n",
    "   <h4>Considering the first wave</h4>"
   ]
  },
  {
   "cell_type": "markdown",
   "metadata": {},
   "source": [
    "The curve used to model the pandemic total confirmed cases and deaths is called a logistic curve, an S-shaped curve.\n",
    "\n",
    "<font color=\"red\">\\begin{equation}\n",
    "y=c/(1+e^{-a(x-b)})\n",
    "\\end{equation}\n",
    "    </font>\n",
    "<font color=\"blue\"><li>a- parameter that controls the growth of curve\n",
    "    <li>b- is the inflexion point</li>\n",
    "    <li>c- the maximum cases</li>\n",
    "    <li>e- the natural logarithm base</li>\n",
    "    <li>x- is the number of days</li>\n",
    "    </font>\n",
    "\n",
    "This curve is used to fit the avalable total cases, deaths and predict them for the future dates.\n",
    "Below are the implications of the coefficients of the sigmoid curve when applied to the pandemic curve\n",
    "<font color=\"green\">\n",
    "    <li> a is the growth factor</li>\n",
    "    <li> b is nearly usual to the day, the countries peak has passed</li>\n",
    "    <li> c is the maximum value expected to be recorder in the considered period</li>\n",
    "    <li> x is the day since 22-Jan</li>\n",
    "</font>"
   ]
  },
  {
   "cell_type": "code",
   "execution_count": 1,
   "metadata": {
    "scrolled": true
   },
   "outputs": [],
   "source": [
    "# importing the required modules\n",
    "import pandas as pd\n",
    "%matplotlib inline \n",
    "import matplotlib as mpl\n",
    "import matplotlib.pyplot as plt\n",
    "import numpy as np\n",
    "from scipy.optimize import curve_fit\n",
    "from sklearn.metrics import r2_score\n",
    "import datetime"
   ]
  },
  {
   "cell_type": "markdown",
   "metadata": {},
   "source": [
    "Predictions are done based on the global data collated by Johns Hopkins University\n",
    "<a>https://github.com/CSSEGISandData/COVID-19</a>"
   ]
  },
  {
   "cell_type": "code",
   "execution_count": 2,
   "metadata": {
    "scrolled": true
   },
   "outputs": [],
   "source": [
    "#Extracting data of Total confirmed cases\n",
    "df_conf=pd.read_excel(\"vic_conf.xls\",'2_wave')\n",
    "\n",
    "\n",
    "#Extracting data of Total deaths reported \n",
    "df_death=pd.read_excel(\"vic_death.xls\",'2_wave')"
   ]
  },
  {
   "cell_type": "markdown",
   "metadata": {},
   "source": [
    "This model can be used to get a rough prediction of the total confirmed cases and recorded deaths for any country with its data of total cases and recorded deaths available.\n",
    "For, now the predictions are being done for the following countries:\n",
    "<font color=\"blue\">\n",
    "<li>India</li>\n",
    "<li>US</li>\n",
    "    </font>\n",
    "\n",
    "The first wave curve of China, South korea, Australia have almost flattened. As China recently release an updated death tolls, cases in China are not being modelled as, the daily modified deaths data is not available online."
   ]
  },
  {
   "cell_type": "code",
   "execution_count": 3,
   "metadata": {
    "scrolled": true
   },
   "outputs": [],
   "source": [
    "df_cases_comp=df_conf[[\"Victoria\"]]\n",
    "df_deaths_comp=df_death\n",
    "df_cases_pred_all = pd.DataFrame(index=range(0,210),columns=[df_cases_comp.columns])\n",
    "df_deaths_pred_all = pd.DataFrame(index=range(0,210),columns=[df_cases_comp.columns])\n",
    "df_cases_pred_3 = pd.DataFrame(index=range(0,210),columns=[df_cases_comp.columns])\n",
    "df_deaths_pred_3 = pd.DataFrame(index=range(0,210),columns=[df_cases_comp.columns])\n",
    "df_cases_pred_3 = pd.DataFrame(index=range(0,210),columns=[df_cases_comp.columns])\n",
    "df_deaths_pred_3 = pd.DataFrame(index=range(0,210),columns=[df_cases_comp.columns])\n",
    "columns=df_cases_comp.columns\n",
    "\n",
    "start = datetime.datetime.strptime(\"22-04\", \"%d-%m\")\n",
    "date_generated = [start + datetime.timedelta(days=x) for x in range(0, 210)]\n",
    "i=0\n",
    "for date in date_generated:\n",
    "    date_generated[i]=(date.strftime(\"%d-%m\"))\n",
    "    i=i+1"
   ]
  },
  {
   "cell_type": "code",
   "execution_count": null,
   "metadata": {},
   "outputs": [],
   "source": []
  },
  {
   "cell_type": "markdown",
   "metadata": {},
   "source": [
    "<font color=\"red\">The sigmoid function declared below is used to estimate the coefficients</font>"
   ]
  },
  {
   "cell_type": "code",
   "execution_count": 4,
   "metadata": {
    "scrolled": true
   },
   "outputs": [],
   "source": [
    "def f_sigmoid(x, a, b, c):\n",
    "        return (c / (1 + np.exp(-b*(x-a))))"
   ]
  },
  {
   "cell_type": "code",
   "execution_count": 5,
   "metadata": {},
   "outputs": [],
   "source": [
    "popt_sig=np.zeros((3,len(columns)))\n",
    "popt_sig_cases_0=np.zeros((3,len(columns)))\n",
    "popt_sig_deaths_0=np.zeros((3,len(columns)))\n",
    "popt_sig_cases_1=np.zeros((3,len(columns)))\n",
    "popt_sig_deaths_1=np.zeros((3,len(columns)))\n",
    "popt_sig_cases_2=np.zeros((3,len(columns)))\n",
    "popt_sig_deaths_2=np.zeros((3,len(columns)))"
   ]
  },
  {
   "cell_type": "markdown",
   "metadata": {},
   "source": [
    "The predictions are done by following the below steps:\n",
    "<li>To start with, an optimized curve fit is done on the available data for the considered country</li>\n",
    "<li>In, order to develop a further accurate fit, the growth rate of the fit obtained are used to</li>\n"
   ]
  },
  {
   "cell_type": "code",
   "execution_count": 6,
   "metadata": {
    "scrolled": true
   },
   "outputs": [],
   "source": [
    "for j in range(0, len(columns)):\n",
    "    x_data=np.linspace(0, len(df_cases_comp), len(df_cases_comp))\n",
    "    y_data=df_cases_comp[columns[j]][0:len(df_cases_comp)]\n",
    "    popt_sig_cases_0[:,j], pcov_sig =(curve_fit(f_sigmoid, x_data, y_data, \n",
    "        method='trf', bounds=([0, 0,0],[210, .2, 3*y_data.max()])))\n",
    "    x_m = np.linspace(0, 210, 210)\n",
    "    y_m = f_sigmoid(x_m, *popt_sig_cases_0[:,j])"
   ]
  },
  {
   "cell_type": "code",
   "execution_count": 7,
   "metadata": {
    "scrolled": true
   },
   "outputs": [],
   "source": [
    "for j in range(0, len(columns)):\n",
    "    x_data=np.linspace(0, len(df_deaths_comp), len(df_deaths_comp))\n",
    "    y_data=df_deaths_comp[columns[j]][0:len(df_deaths_comp)]\n",
    "    popt_sig_deaths_0[:,j], pcov_sig =(curve_fit(f_sigmoid, x_data, y_data, \n",
    "         method='trf', bounds=([0, 0,0],[210, 2, 3*y_data.max()])))\n",
    "    x_m = np.linspace(0, 210, 210)\n",
    "    y_m = f_sigmoid(x_m, *popt_sig_deaths_0[:,j])"
   ]
  },
  {
   "cell_type": "code",
   "execution_count": 8,
   "metadata": {
    "scrolled": false
   },
   "outputs": [],
   "source": [
    "ind=[]\n",
    "popt_sig_new=[]\n",
    "for j in range(0, len(columns)):\n",
    "    r_mat=[]\n",
    "    value=np.linspace(popt_sig_cases_0[1,j]-0.1,popt_sig_cases_0[1,j]+0.1,100)\n",
    "    for val in value:\n",
    "        x_data=np.linspace(0, len(df_cases_comp), len(df_cases_comp))\n",
    "        y_data=df_cases_comp[columns[j]][0:len(df_cases_comp)]\n",
    "        popt_sig[:,j], pcov_sig =(curve_fit(f_sigmoid, x_data, y_data, method='trf', \n",
    "                    bounds=([0, val,y_data.max()],[210, val+0.01, 3*y_data.max()])))\n",
    "        x_m = np.linspace(0, 210, 210)\n",
    "        y_m = f_sigmoid(x_m, *popt_sig[:,j])\n",
    "        train_x = x_data[0:round(len(df_cases_comp)-3)]\n",
    "        test_x = x_data[round(len(df_cases_comp)-3):len(df_cases_comp)]\n",
    "        train_y = y_data[0:round(len(df_cases_comp)-3)]\n",
    "        test_y = y_data[round(len(df_cases_comp)-3):len(df_cases_comp)]\n",
    "        y_hat = f_sigmoid(test_x, *popt_sig[:,j])\n",
    "        r_mat.append(r2_score(y_hat , test_y))\n",
    "    best_r2=(min(r_mat, key=lambda x:abs(x-1)))\n",
    "    ind.append(r_mat.index(best_r2))\n",
    "    popt_sig_new.append(value[r_mat.index(best_r2)])"
   ]
  },
  {
   "cell_type": "code",
   "execution_count": 9,
   "metadata": {},
   "outputs": [],
   "source": [
    "ind=[]\n",
    "popt_sig_new_1=[]\n",
    "for j in range(0, len(columns)):\n",
    "    r_mat=[]\n",
    "    value=np.linspace(popt_sig_cases_0[1,j]-0.1,popt_sig_cases_0[1,j]+0.1,100)\n",
    "    for val in value:\n",
    "        x_data=np.linspace(0, len(df_cases_comp), len(df_cases_comp))\n",
    "        y_data=df_cases_comp[columns[j]][0:len(df_cases_comp)]\n",
    "        popt_sig[:,j], pcov_sig =(curve_fit(f_sigmoid, x_data, y_data, method='trf',\n",
    "                    bounds=([0, val,y_data.max()],[210, val+0.01, 3*y_data.max()])))\n",
    "        x_m = np.linspace(0, 210, 210)\n",
    "        y_m = f_sigmoid(x_m, *popt_sig[:,j])\n",
    "        train_x = x_data[0:round(len(df_cases_comp)-3)]\n",
    "        test_x = x_data[round(len(df_cases_comp)-3):len(df_cases_comp)]\n",
    "        train_y = y_data[0:round(len(df_cases_comp)-3)]\n",
    "        test_y = y_data[round(len(df_cases_comp)-3):len(df_cases_comp)]\n",
    "        y_hat = f_sigmoid(test_x, *popt_sig[:,j])\n",
    "        r_mat.append(r2_score(y_hat , test_y))\n",
    "    best_r2=(min(r_mat, key=lambda x:abs(x-1)))\n",
    "    ind.append(r_mat.index(best_r2))\n",
    "    popt_sig_new_1.append(value[r_mat.index(best_r2)])"
   ]
  },
  {
   "cell_type": "code",
   "execution_count": 10,
   "metadata": {
    "scrolled": false
   },
   "outputs": [
    {
     "name": "stdout",
     "output_type": "stream",
     "text": [
      "Victoria:\n"
     ]
    },
    {
     "data": {
      "image/png": "[encoded data removed]",
      "text/plain": [
       "<Figure size 1008x576 with 1 Axes>"
      ]
     },
     "metadata": {
      "needs_background": "light"
     },
     "output_type": "display_data"
    }
   ],
   "source": [
    "for j in range(0, len(columns)):\n",
    "    x_data=np.linspace(0, len(df_cases_comp), len(df_cases_comp))\n",
    "    y_data=df_cases_comp[columns[j]][0:len(df_cases_comp)]\n",
    "    popt_sig_cases_0[:,j], pcov_sig =(curve_fit(f_sigmoid, x_data, y_data, \n",
    "            method='trf', bounds=([0, 0,y_data.max()],[210, 2, 3*y_data.max()])))   \n",
    "    popt_sig_cases_1[:,j], pcov_sig =(curve_fit(f_sigmoid, x_data, y_data, \n",
    "            method='trf', bounds=([0, popt_sig_new[j]-0.00005,y_data.max()],[210, popt_sig_new[j], 3*y_data.max()])))\n",
    "    x_m = np.linspace(0, 210, 210)\n",
    "    x_m_plot = np.linspace(len(df_cases_comp), 210, 210-len(df_cases_comp))\n",
    "    y_m_0_plot = f_sigmoid(x_m_plot, *popt_sig_cases_0[:,j])\n",
    "    y_m_1_plot = f_sigmoid(x_m_plot, *popt_sig_cases_1[:,j])\n",
    "    print(columns[j]+':')\n",
    "    y_m_0 = f_sigmoid(x_m, *popt_sig_cases_0[:,j])\n",
    "    y_m_1 = f_sigmoid(x_m, *popt_sig_cases_1[:,j])\n",
    "    plt.figure(figsize=(14,8))\n",
    "    plt.xticks(np.arange(0, 210, 10))\n",
    "    plt.plot(date_generated[0:len(df_cases_comp)], y_data, \n",
    "             color='red', linewidth=6,label='Recorded data')\n",
    "    plt.plot(date_generated[len(df_cases_comp): 210],y_m_1_plot,\n",
    "             linewidth=3.0,linestyle='dashed',color='g', \n",
    "             label=r'Predicted Cases: '+str(round(popt_sig_cases_1[2,j])))\n",
    "    plt.title(r\"Prediction of Total Cases in \"+columns[j],fontsize=18)\n",
    "    leg = plt.legend(loc='lower right', fontsize=12, fancybox=True)\n",
    "    plt.ylabel('Total Cases' ,fontsize=15)\n",
    "    plt.xlabel('Day', fontsize=15)\n",
    "    plt.grid(b=True,color='red', alpha=0.3, linestyle=':', linewidth=2)\n",
    "    plt.minorticks_on()\n",
    "    plt.tick_params(axis='both', direction='out', length=6, width=2, \n",
    "                     grid_color='gray', grid_alpha=0.5)\n",
    "    plt.rcParams['figure.figsize'] = [1200, 1000]\n",
    "    plt.savefig(r'Total Cases Prediction by 210th day'+columns[j]+'.png')\n",
    "    plt.show()\n",
    "    df_cases_pred_all[[columns[j]]]=y_m_0\n",
    "    df_cases_pred_3[[columns[j]]]=y_m_1\n"
   ]
  },
  {
   "cell_type": "code",
   "execution_count": 11,
   "metadata": {},
   "outputs": [],
   "source": [
    "ind=[]\n",
    "popt_sig_deaths_new=[]\n",
    "for j in range(0, len(columns)):\n",
    "    r_mat=[]\n",
    "    value=np.linspace(popt_sig_deaths_0[1,j]-0.1,popt_sig_deaths_0[1,j]+0.1,100)\n",
    "    for val in value:\n",
    "        x_data=np.linspace(0, len(df_deaths_comp), len(df_deaths_comp))\n",
    "        y_data=df_deaths_comp[columns[j]][0:len(df_deaths_comp)]\n",
    "        popt_sig[:,j], pcov_sig =(curve_fit(f_sigmoid, x_data, y_data, method='trf', \n",
    "                            bounds=([0, val,y_data.max()],[210, val+0.01, 2*y_data.max()])))\n",
    "        x_m = np.linspace(0, 210, 210)\n",
    "        y_m = f_sigmoid(x_m, *popt_sig[:,j])\n",
    "        train_x = x_data[0:round(len(df_deaths_comp)-3)]\n",
    "        test_x = x_data[round(len(df_deaths_comp)-3):len(df_deaths_comp)]\n",
    "        train_y = y_data[0:round(len(df_deaths_comp)-3)]\n",
    "        test_y = y_data[round(len(df_deaths_comp)-3):len(df_deaths_comp)]\n",
    "        y_hat = f_sigmoid(test_x, *popt_sig[:,j])\n",
    "        r_mat.append(r2_score(y_hat , test_y))\n",
    "    best_r2=(min(r_mat, key=lambda x:abs(x-1)))\n",
    "    ind.append(r_mat.index(best_r2))\n",
    "    popt_sig_deaths_new.append(value[r_mat.index(best_r2)])"
   ]
  },
  {
   "cell_type": "code",
   "execution_count": 12,
   "metadata": {},
   "outputs": [],
   "source": [
    "ind=[]\n",
    "popt_sig_deaths_new_1=[]\n",
    "for j in range(0, len(columns)):\n",
    "    r_mat=[]\n",
    "    value=np.linspace(popt_sig_deaths_0[1,j]-0.1,popt_sig_deaths_0[1,j]+0.1,100)\n",
    "    for val in value:\n",
    "        x_data=np.linspace(0, len(df_deaths_comp), len(df_deaths_comp))\n",
    "        y_data=df_deaths_comp[columns[j]][0:len(df_deaths_comp)]\n",
    "        popt_sig[:,j], pcov_sig =(curve_fit(f_sigmoid, x_data, y_data, method='trf', bounds=([0, val,y_data.max()],[210, val+0.01, 2*y_data.max()])))\n",
    "        x_m = np.linspace(0, 210, 210)\n",
    "        y_m = f_sigmoid(x_m, *popt_sig[:,j])\n",
    "        train_x = x_data[0:round(len(df_deaths_comp)-3)]\n",
    "        test_x = x_data[round(len(df_deaths_comp)-3):len(df_deaths_comp)]\n",
    "        train_y = y_data[0:round(len(df_deaths_comp)-3)]\n",
    "        test_y = y_data[round(len(df_deaths_comp)-3):len(df_deaths_comp)]\n",
    "        y_hat = f_sigmoid(test_x, *popt_sig[:,j])\n",
    "        r_mat.append(r2_score(y_hat , test_y))\n",
    "    best_r2=(min(r_mat, key=lambda x:abs(x-1)))\n",
    "    ind.append(r_mat.index(best_r2))\n",
    "    popt_sig_deaths_new_1.append(value[r_mat.index(best_r2)])"
   ]
  },
  {
   "cell_type": "code",
   "execution_count": 13,
   "metadata": {
    "scrolled": false
   },
   "outputs": [
    {
     "name": "stdout",
     "output_type": "stream",
     "text": [
      "Victoria:\n"
     ]
    },
    {
     "data": {
      "image/png": "[encoded data removed]",
      "text/plain": [
       "<Figure size 1008x576 with 1 Axes>"
      ]
     },
     "metadata": {
      "needs_background": "light"
     },
     "output_type": "display_data"
    }
   ],
   "source": [
    "for j in range(0, len(columns)):\n",
    "    x_data=np.linspace(0, len(df_deaths_comp), len(df_deaths_comp))\n",
    "    y_data=df_deaths_comp[columns[j]][0:len(df_deaths_comp)]\n",
    "    popt_sig_deaths_0[:,j], pcov_sig =(curve_fit(f_sigmoid, x_data, y_data, \n",
    "            method='trf', bounds=([0, 0,y_data.max()],\n",
    "                                  [210,  2, 3*y_data.max()])))\n",
    "    popt_sig_deaths_1[:,j], pcov_sig =(curve_fit(f_sigmoid, x_data, y_data, \n",
    "            method='trf', bounds=([0, popt_sig_deaths_new_1[j]-0.00005,y_data.max()],\n",
    "                                  [210, popt_sig_deaths_new_1[j], 3*y_data.max()])))\n",
    "    x_m = np.linspace(0, 210, 210)\n",
    "    x_m_plot = np.linspace(len(df_deaths_comp), 210, 210-len(df_deaths_comp))\n",
    "    y_m_0_plot = f_sigmoid(x_m_plot, *popt_sig_deaths_0[:,j])    \n",
    "    popt_sig_deaths_1[0,j]=popt_sig_deaths_1[0,j]\n",
    "    y_m_1_plot = f_sigmoid(x_m_plot, *popt_sig_deaths_1[:,j])\n",
    "    print(columns[j]+':')\n",
    "    y_m_0 = f_sigmoid(x_m, *popt_sig_deaths_0[:,j])\n",
    "    y_m_1 = f_sigmoid(x_m, *popt_sig_deaths_1[:,j])   \n",
    "    plt.figure(figsize=(14,8))\n",
    "    plt.xticks(np.arange(0, 210, 10))\n",
    "    plt.plot(date_generated[0:len(df_deaths_comp)], y_data, color='red', \n",
    "             linewidth=6,label='Recorded data')\n",
    "    plt.plot(date_generated[len(df_deaths_comp): 210],y_m_1_plot, \n",
    "             linewidth=3.0,linestyle='dashed',color='g', \n",
    "             label=r'Predicted Deaths: '+str(round(popt_sig_deaths_1[2,j])))\n",
    "    plt.title(r\"Prediction of Total Deaths in \"+columns[j] ,fontsize=18)\n",
    "    leg = plt.legend(loc='lower right', fontsize=12, fancybox=True)\n",
    "    plt.ylabel('Total Deaths' ,fontsize=15)\n",
    "    plt.xlabel('Day', fontsize=15)\n",
    "    plt.grid(b=True,color='red', alpha=0.3, linestyle=':', linewidth=2)\n",
    "    plt.minorticks_on()\n",
    "    plt.tick_params(axis='both', direction='out', length=6, width=2, \n",
    "                     grid_color='gray', grid_alpha=0.5)\n",
    "    plt.rcParams['figure.figsize'] = [1200, 1000]\n",
    "    plt.savefig(r'Total Deaths Prediction on 210th day'+columns[j]+'.png')\n",
    "    plt.show()\n",
    "    df_deaths_pred_all[[columns[j]]]=y_m_0\n",
    "    df_deaths_pred_3[[columns[j]]]=y_m_1\n"
   ]
  },
  {
   "cell_type": "code",
   "execution_count": 14,
   "metadata": {},
   "outputs": [],
   "source": [
    "df_deaths_pred_3=df_deaths_pred_3.round(decimals=0)\n",
    "df_cases_pred_3=df_cases_pred_3.round(decimals=0)\n",
    "df_deaths_pred_3.insert(0,\"Date\",date_generated)\n",
    "df_cases_pred_3.insert(0,\"Date\",date_generated)"
   ]
  },
  {
   "cell_type": "code",
   "execution_count": 15,
   "metadata": {},
   "outputs": [],
   "source": [
    "with pd.ExcelWriter('predictions_vic_19_08_3_day_2_wave.xlsx') as writer:  \n",
    "    df_deaths_pred_3.to_excel(writer, sheet_name='deaths_3')\n",
    "    df_cases_pred_3.to_excel(writer, sheet_name='cases_3')\n",
    "    df_cases_comp.to_excel(writer, sheet_name='actual_cases')\n",
    "    df_deaths_comp.to_excel(writer, sheet_name='actual_deaths')"
   ]
  },
  {
   "cell_type": "code",
   "execution_count": 16,
   "metadata": {},
   "outputs": [],
   "source": [
    "pd.set_option('colwidth', 40)\n",
    "df_cases_param_3 = pd.DataFrame(index=range(0,3),columns=[df_cases_comp.columns])\n",
    "df_deaths_param_3= pd.DataFrame(index=range(0,3),columns=[df_cases_comp.columns])\n",
    "df_mortality_3 = pd.DataFrame(index=range(0,1),columns=[df_cases_comp.columns])\n",
    "for i in range(0,len(columns)):\n",
    "    (df_cases_param_3[[columns[i]]])=popt_sig_cases_1.transpose()[i]\n",
    "    (df_deaths_param_3[[columns[i]]])=popt_sig_deaths_1.transpose()[i]\n",
    "    df_mortality_3[[columns[i]]]=popt_sig_deaths_1.transpose()[i][2]*100/popt_sig_cases_1.transpose()[i][2]\n",
    "df_cases_param_3=df_cases_param_3.rename(index={0:\"Peak Day\",1:\"Growth Rate\",2:\"Predicted Cases_210_Day\"})\n",
    "df_deaths_param_3=df_deaths_param_3.rename(index={0:\"Peak Day\",1:\"Growth Rate\",2:\"Predicted Deaths_210_Day\"})\n",
    "df_mortality_3=df_mortality_3.rename(index={0:\"Mortality Rate (%)\"})"
   ]
  },
  {
   "cell_type": "code",
   "execution_count": 17,
   "metadata": {},
   "outputs": [
    {
     "name": "stdout",
     "output_type": "stream",
     "text": [
      "Coefficients of sigmoid function for predicting cases considering the best fit for trainig last 10 days of cases\n"
     ]
    },
    {
     "data": {
      "text/html": [
       "<div>\n",
       "<style scoped>\n",
       "    .dataframe tbody tr th:only-of-type {\n",
       "        vertical-align: middle;\n",
       "    }\n",
       "\n",
       "    .dataframe tbody tr th {\n",
       "        vertical-align: top;\n",
       "    }\n",
       "\n",
       "    .dataframe thead tr th {\n",
       "        text-align: left;\n",
       "    }\n",
       "</style>\n",
       "<table border=\"1\" class=\"dataframe\">\n",
       "  <thead>\n",
       "    <tr>\n",
       "      <th></th>\n",
       "      <th>Victoria</th>\n",
       "    </tr>\n",
       "  </thead>\n",
       "  <tbody>\n",
       "    <tr>\n",
       "      <th>Peak Day</th>\n",
       "      <td>99.672</td>\n",
       "    </tr>\n",
       "    <tr>\n",
       "      <th>Growth Rate</th>\n",
       "      <td>0.101</td>\n",
       "    </tr>\n",
       "    <tr>\n",
       "      <th>Predicted Cases_210_Day</th>\n",
       "      <td>18448.635</td>\n",
       "    </tr>\n",
       "  </tbody>\n",
       "</table>\n",
       "</div>"
      ],
      "text/plain": [
       "                          Victoria\n",
       "Peak Day                    99.672\n",
       "Growth Rate                  0.101\n",
       "Predicted Cases_210_Day  18448.635"
      ]
     },
     "execution_count": 17,
     "metadata": {},
     "output_type": "execute_result"
    }
   ],
   "source": [
    "print(\"Coefficients of sigmoid function for predicting cases considering the best fit for trainig last 10 days of cases\")\n",
    "df_cases_param_3=df_cases_param_3.round(3)\n",
    "df_cases_param_3"
   ]
  },
  {
   "cell_type": "code",
   "execution_count": 18,
   "metadata": {},
   "outputs": [
    {
     "name": "stdout",
     "output_type": "stream",
     "text": [
      "Coefficients of sigmoid function for predicting deaths considering the best fit for trainig last 10 days of cases\n"
     ]
    },
    {
     "data": {
      "text/html": [
       "<div>\n",
       "<style scoped>\n",
       "    .dataframe tbody tr th:only-of-type {\n",
       "        vertical-align: middle;\n",
       "    }\n",
       "\n",
       "    .dataframe tbody tr th {\n",
       "        vertical-align: top;\n",
       "    }\n",
       "\n",
       "    .dataframe thead tr th {\n",
       "        text-align: left;\n",
       "    }\n",
       "</style>\n",
       "<table border=\"1\" class=\"dataframe\">\n",
       "  <thead>\n",
       "    <tr>\n",
       "      <th></th>\n",
       "      <th>Victoria</th>\n",
       "    </tr>\n",
       "  </thead>\n",
       "  <tbody>\n",
       "    <tr>\n",
       "      <th>Peak Day</th>\n",
       "      <td>137.964</td>\n",
       "    </tr>\n",
       "    <tr>\n",
       "      <th>Growth Rate</th>\n",
       "      <td>0.063</td>\n",
       "    </tr>\n",
       "    <tr>\n",
       "      <th>Predicted Deaths_210_Day</th>\n",
       "      <td>1413.000</td>\n",
       "    </tr>\n",
       "  </tbody>\n",
       "</table>\n",
       "</div>"
      ],
      "text/plain": [
       "                          Victoria\n",
       "Peak Day                   137.964\n",
       "Growth Rate                  0.063\n",
       "Predicted Deaths_210_Day  1413.000"
      ]
     },
     "execution_count": 18,
     "metadata": {},
     "output_type": "execute_result"
    }
   ],
   "source": [
    "print(\"Coefficients of sigmoid function for predicting deaths considering the best fit for trainig last 10 days of cases\")\n",
    "df_deaths_param_3=df_deaths_param_3.round(3)\n",
    "df_deaths_param_3"
   ]
  },
  {
   "cell_type": "code",
   "execution_count": 19,
   "metadata": {},
   "outputs": [
    {
     "name": "stdout",
     "output_type": "stream",
     "text": [
      "Mortality rate considering the best fit for trainig last 10 days of cases\n"
     ]
    },
    {
     "data": {
      "text/html": [
       "<div>\n",
       "<style scoped>\n",
       "    .dataframe tbody tr th:only-of-type {\n",
       "        vertical-align: middle;\n",
       "    }\n",
       "\n",
       "    .dataframe tbody tr th {\n",
       "        vertical-align: top;\n",
       "    }\n",
       "\n",
       "    .dataframe thead tr th {\n",
       "        text-align: left;\n",
       "    }\n",
       "</style>\n",
       "<table border=\"1\" class=\"dataframe\">\n",
       "  <thead>\n",
       "    <tr>\n",
       "      <th></th>\n",
       "      <th>Victoria</th>\n",
       "    </tr>\n",
       "  </thead>\n",
       "  <tbody>\n",
       "    <tr>\n",
       "      <th>Mortality Rate (%)</th>\n",
       "      <td>7.6591</td>\n",
       "    </tr>\n",
       "  </tbody>\n",
       "</table>\n",
       "</div>"
      ],
      "text/plain": [
       "                   Victoria\n",
       "Mortality Rate (%)   7.6591"
      ]
     },
     "metadata": {},
     "output_type": "display_data"
    }
   ],
   "source": [
    "print(\"Mortality rate considering the best fit for trainig last 10 days of cases\")\n",
    "display(df_mortality_3)"
   ]
  },
  {
   "cell_type": "markdown",
   "metadata": {},
   "source": [
    "# References:\n",
    "<li>https://github.com/CSSEGISandData/COVID-19\n",
    "<li>http://www.healthdata.org/sites/default/files/files/research_articles/2020/CovidModel_Appendix.pdf\n",
    "<li>https://covid19.healthdata.org/united-states-of-america\n",
    "<li>https://www.covidanalytics.io/projections"
   ]
  },
  {
   "cell_type": "code",
   "execution_count": null,
   "metadata": {},
   "outputs": [],
   "source": []
  },
  {
   "cell_type": "code",
   "execution_count": null,
   "metadata": {},
   "outputs": [],
   "source": []
  }
 ],
 "metadata": {
  "hide_input": false,
  "kernelspec": {
   "display_name": "Python 3",
   "language": "python",
   "name": "python3"
  },
  "language_info": {
   "codemirror_mode": {
    "name": "ipython",
    "version": 3
   },
   "file_extension": ".py",
   "mimetype": "text/x-python",
   "name": "python",
   "nbconvert_exporter": "python",
   "pygments_lexer": "ipython3",
   "version": "3.7.4"
  }
 },
 "nbformat": 4,
 "nbformat_minor": 2
}
